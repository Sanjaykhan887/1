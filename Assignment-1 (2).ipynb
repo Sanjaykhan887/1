{
 "cells": [
  {
   "cell_type": "markdown",
   "id": "085fc86f-c377-4d19-8d25-713699473cbd",
   "metadata": {},
   "source": [
    "1.Who developed Python Programming Language?\n",
    "ans : Python was developed by 'Guido van Rossum'"
   ]
  },
  {
   "cell_type": "markdown",
   "id": "4076421b-7894-4513-a530-e156f1a2e998",
   "metadata": {},
   "source": [
    "2.which type of Programming does Python support?\n",
    "ans : Python is an interpreted programming language, supporting object-oriented, structured, and functional programming."
   ]
  },
  {
   "cell_type": "markdown",
   "id": "dca63513-f65e-459c-9c03-b837fba5944a",
   "metadata": {},
   "source": [
    "3.is python case sensitive when deadling with idemtifiers?\n",
    "ans : Yes, Python is a case-sensitive language"
   ]
  },
  {
   "cell_type": "markdown",
   "id": "06805bc7-a0bd-4190-b455-bdb444cc0830",
   "metadata": {},
   "source": [
    "4.what is the correct extension of the python file?\n",
    "ans..py,.pyi"
   ]
  },
  {
   "cell_type": "markdown",
   "id": "56131f99-9350-4656-8702-2571508b33fd",
   "metadata": {},
   "source": [
    "5.is python code compiled or interpreted?\n",
    "ans.interpreted language"
   ]
  },
  {
   "cell_type": "markdown",
   "id": "53b77ed3-5f2d-49fe-9d93-783f51fa0abc",
   "metadata": {},
   "source": [
    "6.name a few blocks of code used to define in python language?\n",
    "ans.a module, a function body, and a class definition."
   ]
  },
  {
   "cell_type": "markdown",
   "id": "5cd35ee4-31de-4f8e-9118-c15cc4a67531",
   "metadata": {},
   "source": [
    "7.state a character used to give single-line comments im python\n",
    "ans. yes use #"
   ]
  },
  {
   "cell_type": "markdown",
   "id": "d32e9da5-b247-4bfd-944d-7b17d9fc756c",
   "metadata": {},
   "source": [
    "8. mention function which can help uis help us to find the version of python that we are currently working on\n"
   ]
  },
  {
   "cell_type": "markdown",
   "id": "be3f075c-d3a7-4688-9298-533dc1371d94",
   "metadata": {},
   "source": [
    "#ans"
   ]
  },
  {
   "cell_type": "markdown",
   "id": "e70c1c33-7fce-469d-9e79-2152d3eed14f",
   "metadata": {},
   "source": [
    "\n",
    "import sys\n",
    " \n",
    " \n",
    "print(\"User Current Version:-\", sys.version)"
   ]
  },
  {
   "cell_type": "markdown",
   "id": "b1900bf3-5045-4bff-9c75-32c7303513d1",
   "metadata": {},
   "source": [
    "9. Pyshon supports the cretion of anonymous function at runtime, using a construct called\n",
    "\n",
    "\n",
    "ans. lambda"
   ]
  },
  {
   "cell_type": "markdown",
   "id": "121ca569-fa55-42f1-9976-00c9a1417db6",
   "metadata": {},
   "source": [
    "10.what does pip stand for python?\n",
    "\n",
    "\n",
    "ans.PIP is a recursive acronym for “Preferred Installer Program” or PIP Installs Packages. It is a command-line utility that installs, reinstalls, or uninstalls PyPI packages with one simple command: pip"
   ]
  },
  {
   "cell_type": "markdown",
   "id": "3ecd241b-efaa-43fe-8cd6-3905f3eef2a6",
   "metadata": {},
   "source": [
    "11. mention a few built-in function in python ?\n",
    "ans .\n",
    "abs(),aiter(),all(),any(),anext(),ascii(),bin(),bool(),breakpoint(),bytearray(),bytes(),callable(),chr(),classmethod(),compile(),filter(),float(),format(),frozenset(),getattr(),issubclass(),iter(),len(),list(),locals(),map(),max(),memoryview"
   ]
  },
  {
   "cell_type": "markdown",
   "id": "190f4dec-1f6d-4d27-9dd4-8f9c2572c3e1",
   "metadata": {},
   "source": [
    "12. What is the maximum possible length of an identifier in python?\n",
    "ans. 79 characters"
   ]
  },
  {
   "cell_type": "markdown",
   "id": "efb963a6-5458-4a18-8afa-a116fcaf07ec",
   "metadata": {},
   "source": [
    "13. What are benefits of using Python?\n",
    "ans. Easy to Read, Learn and Write. Python is a high-level programming language that has English-like syntax. ...\n",
    "Improved Productivity.\n",
    "Interpreted Language. ...\n",
    "Dynamically Typed. ...\n",
    "Free and Open-Source.\n",
    "Vast Libraries Support. ...\n",
    "Portability. ...\n",
    "Slow Speed. etc."
   ]
  },
  {
   "cell_type": "markdown",
   "id": "ff834f5e-3e21-4a96-a85c-7bedc3c416f9",
   "metadata": {},
   "source": [
    "14. How is memory managed in Python?\n",
    "ans. Python involves a private heap containing all Python objects and data structures\n"
   ]
  },
  {
   "cell_type": "markdown",
   "id": "12298720-b4c5-4ead-8bc6-b8ecf135b4eb",
   "metadata": {},
   "source": [
    "15. HOw to install Python on Windows and set path variables?\n",
    "ans.\n",
    "1.Right-clicking This PC and going to Properties.\n",
    "2.Clicking on the Advanced system settings in the menu on the left.\n",
    "3.Clicking on the Environment Variables button o​n the bottom right.\n",
    "4.In the System variables section, selecting the Path variable and clicking on Edit. The next screen will show all the directories that are currently a part of the PATH variable.\n",
    "5.Clicking on New and entering Python’s install directory"
   ]
  },
  {
   "cell_type": "markdown",
   "id": "88db7e7c-1bdd-44a3-bd6f-0ecdc1d40615",
   "metadata": {},
   "source": [
    "16.is indentation required in Python?\n",
    "the indentation in Python is very important"
   ]
  }
 ],
 "metadata": {
  "kernelspec": {
   "display_name": "Python 3 (ipykernel)",
   "language": "python",
   "name": "python3"
  },
  "language_info": {
   "codemirror_mode": {
    "name": "ipython",
    "version": 3
   },
   "file_extension": ".py",
   "mimetype": "text/x-python",
   "name": "python",
   "nbconvert_exporter": "python",
   "pygments_lexer": "ipython3",
   "version": "3.10.6"
  }
 },
 "nbformat": 4,
 "nbformat_minor": 5
}
